{
  "nbformat": 4,
  "nbformat_minor": 0,
  "metadata": {
    "colab": {
      "provenance": [],
      "authorship_tag": "ABX9TyOv+mNh40UFv5HCZEIzifns",
      "include_colab_link": true
    },
    "kernelspec": {
      "name": "python3",
      "display_name": "Python 3"
    },
    "language_info": {
      "name": "python"
    }
  },
  "cells": [
    {
      "cell_type": "markdown",
      "metadata": {
        "id": "view-in-github",
        "colab_type": "text"
      },
      "source": [
        "<a href=\"https://colab.research.google.com/github/monahatami1/Building_Energy_Benchmark/blob/master/housing_price.ipynb\" target=\"_parent\"><img src=\"https://colab.research.google.com/assets/colab-badge.svg\" alt=\"Open In Colab\"/></a>"
      ]
    },
    {
      "cell_type": "code",
      "execution_count": 1,
      "metadata": {
        "colab": {
          "base_uri": "https://localhost:8080/"
        },
        "id": "u9t01Hwnkyve",
        "outputId": "8fba8898-f057-4044-cf53-383a2d53b228"
      },
      "outputs": [
        {
          "output_type": "stream",
          "name": "stdout",
          "text": [
            "Predicted price: [270000.]\n"
          ]
        },
        {
          "output_type": "stream",
          "name": "stderr",
          "text": [
            "/usr/local/lib/python3.9/dist-packages/sklearn/base.py:439: UserWarning: X does not have valid feature names, but LinearRegression was fitted with feature names\n",
            "  warnings.warn(\n"
          ]
        }
      ],
      "source": [
        "import pandas as pd\n",
        "from sklearn.linear_model import LinearRegression\n",
        "\n",
        "# Generate the dataset\n",
        "data = {'Square footage (ft^2)': [1500, 2000, 1800, 2500, 2200],\n",
        "        'Number of bedrooms': [3, 4, 3, 5, 4],\n",
        "        'Number of bathrooms': [2, 2, 1, 3, 2],\n",
        "        'Garage capacity': [2, 2, 1, 2, 2],\n",
        "        'Price (USD)': [250000, 320000, 200000, 420000, 360000]}\n",
        "df = pd.DataFrame(data)\n",
        "\n",
        "# Separate the target variable from the predictors\n",
        "X = df.drop('Price (USD)', axis=1)\n",
        "y = df['Price (USD)']\n",
        "\n",
        "# Create a linear regression model and fit it to the data\n",
        "model = LinearRegression()\n",
        "model.fit(X, y)\n",
        "\n",
        "# Predict the price for a new house\n",
        "new_house = [[2000, 3, 2, 1]]\n",
        "predicted_price = model.predict(new_house)\n",
        "\n",
        "print('Predicted price:', predicted_price)"
      ]
    }
  ]
}